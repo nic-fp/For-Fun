{
  "nbformat": 4,
  "nbformat_minor": 0,
  "metadata": {
    "colab": {
      "name": "GCDFinderEuclidsAlg.ipynb",
      "provenance": [],
      "include_colab_link": true
    },
    "kernelspec": {
      "name": "python3",
      "display_name": "Python 3"
    }
  },
  "cells": [
    {
      "cell_type": "markdown",
      "metadata": {
        "id": "view-in-github",
        "colab_type": "text"
      },
      "source": [
        "<a href=\"https://colab.research.google.com/github/nic-fp/For-Fun/blob/master/GCDFinderEuclidsAlg.ipynb\" target=\"_parent\"><img src=\"https://colab.research.google.com/assets/colab-badge.svg\" alt=\"Open In Colab\"/></a>"
      ]
    },
    {
      "cell_type": "code",
      "metadata": {
        "id": "aFI9HZoFaT-O",
        "colab_type": "code",
        "colab": {}
      },
      "source": [
        "import math\n",
        "\n",
        "\n",
        "def euclidAlg(number1,number2):\n",
        "  factor = 0\n",
        "  if number1 > number2:\n",
        "    b = number1\n",
        "    a= number2\n",
        "  elif number1 <= number2:\n",
        "    b = number2\n",
        "    a = number1\n",
        "  \n",
        "  \n",
        "  if b%a == 0:\n",
        "    factor = a\n",
        "\n",
        "  else:\n",
        "    while b%a != 0:\n",
        "      factor = b%a\n",
        "      newA = b%a\n",
        "      b = a\n",
        "      a = newA \n",
        "  \n",
        "      \n",
        "\n",
        "  return(factor)\n",
        "\n"
      ],
      "execution_count": 0,
      "outputs": []
    },
    {
      "cell_type": "code",
      "metadata": {
        "id": "DaGVFhKEDyUq",
        "colab_type": "code",
        "outputId": "280949c1-2c34-4943-9ae1-4f4ccfc78b24",
        "colab": {
          "base_uri": "https://localhost:8080/",
          "height": 34
        }
      },
      "source": [
        "\n",
        "euclidAlg(40,13)"
      ],
      "execution_count": 0,
      "outputs": [
        {
          "output_type": "execute_result",
          "data": {
            "text/plain": [
              "1"
            ]
          },
          "metadata": {
            "tags": []
          },
          "execution_count": 16
        }
      ]
    },
    {
      "cell_type": "code",
      "metadata": {
        "id": "xNUXDSiI9Ylw",
        "colab_type": "code",
        "colab": {}
      },
      "source": [
        "\n"
      ],
      "execution_count": 0,
      "outputs": []
    }
  ]
}