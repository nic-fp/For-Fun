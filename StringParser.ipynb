{
  "nbformat": 4,
  "nbformat_minor": 0,
  "metadata": {
    "colab": {
      "name": "StringParser.ipynb",
      "provenance": [],
      "include_colab_link": true
    },
    "kernelspec": {
      "name": "python3",
      "display_name": "Python 3"
    }
  },
  "cells": [
    {
      "cell_type": "markdown",
      "metadata": {
        "id": "view-in-github",
        "colab_type": "text"
      },
      "source": [
        "<a href=\"https://colab.research.google.com/github/nic-fp/For-Fun/blob/master/StringParser.ipynb\" target=\"_parent\"><img src=\"https://colab.research.google.com/assets/colab-badge.svg\" alt=\"Open In Colab\"/></a>"
      ]
    },
    {
      "cell_type": "code",
      "metadata": {
        "id": "naCu9Xndzyiv",
        "colab_type": "code",
        "outputId": "c98096f4-ae80-48d6-9527-c9290a71db2b",
        "colab": {
          "base_uri": "https://localhost:8080/",
          "height": 50
        }
      },
      "source": [
        "#Given a string, find the first non-repeating character in it and return its index. If a unique character does not exist, return -1.\n",
        "\n",
        "#aabeeddfgg\n",
        "\n",
        "testCase = 'aabeeddfgg'\n",
        "\n",
        "\n",
        "def stringParser(str):\n",
        "  counter = 0\n",
        "  uniqueCharIndex = -1\n",
        "\n",
        "  listOfTest = []\n",
        "\n",
        "  for i in str:\n",
        "    listOfTest.append(i)\n",
        "\n",
        "  \n",
        "  for letter in listOfTest:\n",
        "    if counter == 0:\n",
        "      if letter not in listOfTest[counter+1:]:\n",
        "        uniqueCharIndex = counter\n",
        "        print(uniqueCharIndex)\n",
        "        return uniqueCharIndex\n",
        "        break\n",
        "      else:\n",
        "        counter += 1\n",
        "    elif counter != len(listOfTest):\n",
        "      if (letter not in listOfTest[counter+1:]) and (letter not in listOfTest[:counter]):\n",
        "        \n",
        "        uniqueCharIndex = counter\n",
        "        print(uniqueCharIndex)\n",
        "        return uniqueCharIndex\n",
        "        break\n",
        "      else:\n",
        "        counter += 1\n",
        "    elif counter == len(listOfTest):\n",
        "      if letter not in listOfTest[:counter]:\n",
        "        uniqueCharIndex = counter\n",
        "        \n",
        "      else:\n",
        "      \tuniqueCharIndex = -1\n",
        "      print(uniqueCharIndex)\n",
        "      return uniqueCharIndex\n",
        "    \t\n",
        "    #else:\n",
        "      #if (letter in listOfTest[counter+1:]) or (if letter in listOfTest[:counter-1]):\n",
        "      \n",
        "stringParser('aabeeddfgg')"
      ],
      "execution_count": 0,
      "outputs": [
        {
          "output_type": "stream",
          "text": [
            "2\n"
          ],
          "name": "stdout"
        },
        {
          "output_type": "execute_result",
          "data": {
            "text/plain": [
              "2"
            ]
          },
          "metadata": {
            "tags": []
          },
          "execution_count": 2
        }
      ]
    }
  ]
}