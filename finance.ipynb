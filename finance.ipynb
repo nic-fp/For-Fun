{
  "nbformat": 4,
  "nbformat_minor": 0,
  "metadata": {
    "colab": {
      "name": "finance.ipynb",
      "provenance": [],
      "collapsed_sections": [],
      "authorship_tag": "ABX9TyPEHpTShogE3nzMYoiU7Kot",
      "include_colab_link": true
    },
    "kernelspec": {
      "name": "python3",
      "display_name": "Python 3"
    },
    "accelerator": "GPU"
  },
  "cells": [
    {
      "cell_type": "markdown",
      "metadata": {
        "id": "view-in-github",
        "colab_type": "text"
      },
      "source": [
        "<a href=\"https://colab.research.google.com/github/nic-fp/For-Fun/blob/master/finance.ipynb\" target=\"_parent\"><img src=\"https://colab.research.google.com/assets/colab-badge.svg\" alt=\"Open In Colab\"/></a>"
      ]
    },
    {
      "cell_type": "code",
      "metadata": {
        "id": "wPuXVoHH0uBc",
        "colab_type": "code",
        "colab": {}
      },
      "source": [
        "import random\n"
      ],
      "execution_count": 3,
      "outputs": []
    },
    {
      "cell_type": "code",
      "metadata": {
        "id": "Hm0zklhG1Nfr",
        "colab_type": "code",
        "colab": {
          "base_uri": "https://localhost:8080/",
          "height": 106
        },
        "outputId": "21b043fb-c42c-4c66-8f47-d39c467a11bd"
      },
      "source": [
        "'''def addAfterLoss(startingValue, years):\n",
        "    finalValueFinalTotalListRates=[]\n",
        "    listOfRates=[]\n",
        "    value = startingValue\n",
        "    amountAdded = 0\n",
        "    for i in range(1,years+1):\n",
        "        rate = (random.randint(-43,54))/100 #rate will be between highest and lowest return of s and p 500 all time\n",
        "        listOfRates.append(rate)\n",
        "        yearStartVal = value\n",
        "        value = value*(1+rate)\n",
        "        if (value>=yearStartVal):\n",
        "          pass\n",
        "        else:\n",
        "          amountDif = yearStartVal - value\n",
        "          amountAdded+= amountDif\n",
        "          value+=amountDif\n",
        "    finalValueFinalTotalListRates.append(value)\n",
        "    finalValueFinalTotalListRates.append(amountAdded+startingValue)\n",
        "    finalValueFinalTotalListRates.append(listOfRates)\n",
        "    return(finalValueFinalTotalListRates)'''\n",
        " "
      ],
      "execution_count": 4,
      "outputs": [
        {
          "output_type": "execute_result",
          "data": {
            "application/vnd.google.colaboratory.intrinsic": {
              "type": "string"
            },
            "text/plain": [
              "'def addAfterLoss(startingValue, years):\\n    finalValueFinalTotalListRates=[]\\n    listOfRates=[]\\n    value = startingValue\\n    amountAdded = 0\\n    for i in range(1,years+1):\\n        rate = (random.randint(-43,54))/100 #rate will be between highest and lowest return of s and p 500 all time\\n        listOfRates.append(rate)\\n        yearStartVal = value\\n        value = value*(1+rate)\\n        if (value>=yearStartVal):\\n          pass\\n        else:\\n          amountDif = yearStartVal - value\\n          amountAdded+= amountDif\\n          value+=amountDif\\n    finalValueFinalTotalListRates.append(value)\\n    finalValueFinalTotalListRates.append(amountAdded+startingValue)\\n    finalValueFinalTotalListRates.append(listOfRates)\\n    return(finalValueFinalTotalListRates)'"
            ]
          },
          "metadata": {
            "tags": []
          },
          "execution_count": 4
        }
      ]
    },
    {
      "cell_type": "code",
      "metadata": {
        "id": "Tb-co0_c1y2B",
        "colab_type": "code",
        "colab": {}
      },
      "source": [
        "def DCA(amountAvailable,rates):\n",
        "    #initializers = addAfterLoss(startingValue,years)\n",
        "    #endingValuetoBeat=initializers[0]\n",
        "    #amountInvested = initializers[1]\n",
        "    amountAddedYearly = amountAvailable/len(rates)\n",
        "    endingValue = normalCompoundwithFlucuatingRates(amountAddedYearly,rates,amountAddedYearly)\n",
        "    return(endingValue)\n",
        "\n",
        "\n",
        "\n",
        "\n",
        "\n"
      ],
      "execution_count": 5,
      "outputs": []
    },
    {
      "cell_type": "code",
      "metadata": {
        "id": "PZR_lpkZ14q5",
        "colab_type": "code",
        "colab": {}
      },
      "source": [
        "def normalCompoundwithFlucuatingRates(startingValue,rates,amountAddedYearly = 0):\n",
        "  value = startingValue\n",
        "  for rate in rates:\n",
        "    value = value*(1+rate)\n",
        "    value+=amountAddedYearly\n",
        "  value-= amountAddedYearly\n",
        "  return(value)\n"
      ],
      "execution_count": 6,
      "outputs": []
    },
    {
      "cell_type": "code",
      "metadata": {
        "id": "-AzsvmoQ8pIu",
        "colab_type": "code",
        "colab": {}
      },
      "source": [
        "def addAfterLoss(startingValue, rates):\n",
        "    finalValueFinalTotal=[]\n",
        "    value = startingValue\n",
        "    amountAdded = 0\n",
        "    for rate in rates:\n",
        "        yearStartVal = value\n",
        "        value = value*(1+rate)\n",
        "        if (value>=yearStartVal):\n",
        "          pass\n",
        "        else:\n",
        "          amountDif = yearStartVal - value\n",
        "          amountAdded+= amountDif\n",
        "          value+=amountDif\n",
        "    finalValueFinalTotal.append(value)\n",
        "    finalValueFinalTotal.append(amountAdded+startingValue)\n",
        "    return(finalValueFinalTotal)"
      ],
      "execution_count": 7,
      "outputs": []
    },
    {
      "cell_type": "code",
      "metadata": {
        "id": "HiXmFcIP8rZA",
        "colab_type": "code",
        "colab": {}
      },
      "source": [
        "def rateInitializer(years):\n",
        "  listOfRates =[]\n",
        "  for i in range(0,years):\n",
        "    rate = (random.randint(-200,200))/10000 #multiplying each by factors of 10 will increase variablilty of rates within range like 2.32 rather than just 1,2,-1,-2...\n",
        "    listOfRates.append(rate)\n",
        "  return listOfRates"
      ],
      "execution_count": 13,
      "outputs": []
    },
    {
      "cell_type": "code",
      "metadata": {
        "id": "KS3mpr6ZO9wJ",
        "colab_type": "code",
        "colab": {}
      },
      "source": [
        "def returnGreatest(listOfValues): #returns 1=aal 2=aab 3=dca 12=tie between 1 and 2...\n",
        "    a = listOfValues[0]\n",
        "    b = listOfValues[1] #abc acb bac bca cab cba\n",
        "    c = listOfValues[2]\n",
        "    if(a==b or a==c or b==c):\n",
        "      if(a == b and a ==c):\n",
        "        return \"123\"\n",
        "      elif (a == b and a>c):\n",
        "        return \"12\"\n",
        "      elif (b == c and b>a):\n",
        "        return \"23\"\n",
        "      elif(a==c and a>b):\n",
        "        return \"13\"\n",
        "    if (a>b): #checks order a\n",
        "      if(a>c):\n",
        "        return \"1\"\n",
        "      else:\n",
        "        return \"3\"\n",
        "    if (b>a): #checks order b \n",
        "      if(b>c):\n",
        "        return \"2\"\n",
        "      else:\n",
        "        return \"3\"\n",
        "    if (c>b): #checks order cab and acb\n",
        "      if(c>a):\n",
        "        return \"3\"\n",
        "      else:\n",
        "        return \"1\""
      ],
      "execution_count": 9,
      "outputs": []
    },
    {
      "cell_type": "code",
      "metadata": {
        "id": "L8T2c2__OOun",
        "colab_type": "code",
        "colab": {}
      },
      "source": [
        "def compareMethods(startingValue,years):\n",
        "    rates = rateInitializer(years)\n",
        "    addAfterLossList = addAfterLoss(startingValue, rates)\n",
        "    addAfterLossFinalValue = addAfterLossList[0]\n",
        "    totalInvested = addAfterLossList[1]\n",
        "    addAllatBeginningFinalValue = normalCompoundwithFlucuatingRates(totalInvested, rates)\n",
        "    dollarCostFinalValue = DCA(totalInvested,rates)\n",
        "    afterALLDCA = [addAfterLossFinalValue,addAllatBeginningFinalValue,dollarCostFinalValue]\n",
        "    return(returnGreatest(afterALLDCA))"
      ],
      "execution_count": 10,
      "outputs": []
    },
    {
      "cell_type": "code",
      "metadata": {
        "id": "IMy1z9uGmwaT",
        "colab_type": "code",
        "colab": {}
      },
      "source": [
        "def main(): #returns list of counts [addAfterLossCount,addAtBeginCount,DCAcount,afterLossandBeginningTie,afterLossandDCATie,beginningandDCATie,allTied]\n",
        "    data = []\n",
        "    for i in range(0,10000):\n",
        "      data.append(compareMethods(10000,365))\n",
        "    addAfterLossCount = data.count(\"1\")\n",
        "    addAtBeginCount = data.count(\"2\")\n",
        "    DCAcount = data.count(\"3\")\n",
        "    afterLossandBeginningTie = data.count(\"12\")\n",
        "    afterLossandDCATie = data.count(\"13\")\n",
        "    beginningandDCATie = data.count(\"23\")\n",
        "    allTied = data.count(\"123\")\n",
        "    listOfCounts = [addAfterLossCount,addAtBeginCount,DCAcount,afterLossandBeginningTie,afterLossandDCATie,beginningandDCATie,allTied]\n",
        "    print(\"This is the list: \" + str(listOfCounts))"
      ],
      "execution_count": 11,
      "outputs": []
    },
    {
      "cell_type": "code",
      "metadata": {
        "id": "6ogKBlOvm7-f",
        "colab_type": "code",
        "colab": {
          "base_uri": "https://localhost:8080/",
          "height": 34
        },
        "outputId": "372e7662-5181-4880-ceaf-f858f9a14d41"
      },
      "source": [
        "main()"
      ],
      "execution_count": 15,
      "outputs": [
        {
          "output_type": "stream",
          "text": [
            "This is the list: [3696, 4186, 2118, 0, 0, 0, 0]\n"
          ],
          "name": "stdout"
        }
      ]
    },
    {
      "cell_type": "code",
      "metadata": {
        "id": "5DMLws_gpBb1",
        "colab_type": "code",
        "colab": {}
      },
      "source": [
        ""
      ],
      "execution_count": 119,
      "outputs": []
    },
    {
      "cell_type": "code",
      "metadata": {
        "id": "JgGcYKLPqJTu",
        "colab_type": "code",
        "colab": {}
      },
      "source": [
        ""
      ],
      "execution_count": 61,
      "outputs": []
    }
  ]
}