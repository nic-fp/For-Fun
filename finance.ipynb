{
  "nbformat": 4,
  "nbformat_minor": 0,
  "metadata": {
    "colab": {
      "name": "finance.ipynb",
      "provenance": [],
      "authorship_tag": "ABX9TyN2iHve+M3hkpPWzVr+AfcN",
      "include_colab_link": true
    },
    "kernelspec": {
      "name": "python3",
      "display_name": "Python 3"
    }
  },
  "cells": [
    {
      "cell_type": "markdown",
      "metadata": {
        "id": "view-in-github",
        "colab_type": "text"
      },
      "source": [
        "<a href=\"https://colab.research.google.com/github/nic-fp/For-Fun/blob/master/finance.ipynb\" target=\"_parent\"><img src=\"https://colab.research.google.com/assets/colab-badge.svg\" alt=\"Open In Colab\"/></a>"
      ]
    },
    {
      "cell_type": "code",
      "metadata": {
        "id": "wPuXVoHH0uBc",
        "colab_type": "code",
        "colab": {}
      },
      "source": [
        "import random\n"
      ],
      "execution_count": 0,
      "outputs": []
    },
    {
      "cell_type": "code",
      "metadata": {
        "id": "Hm0zklhG1Nfr",
        "colab_type": "code",
        "colab": {}
      },
      "source": [
        "def addAfterLoss(startingValue, years):\n",
        "    finalValueFinalTotalListRates=[]\n",
        "    listOfRates=[]\n",
        "    value = startingValue\n",
        "    amountAdded = 0\n",
        "    for i in range(1,years+1):\n",
        "        rate = (random.randint(-43,54))/100 #rate will be between highest and lowest return of s and p 500 all time\n",
        "        listOfRates.append(rate)\n",
        "        yearStartVal = value\n",
        "        value = value*(1+rate)\n",
        "        if (value>=yearStartVal):\n",
        "          pass\n",
        "        else:\n",
        "          amountDif = yearStartVal - value\n",
        "          amountAdded+= amountDif\n",
        "          value+=amountDif\n",
        "    finalValueFinalTotalListRates.append(value)\n",
        "    finalValueFinalTotalListRates.append(amountAdded+startingValue)\n",
        "    finalValueFinalTotalListRates.append(listOfRates)\n",
        "    return(finalValueFinalTotalListRates)\n",
        " "
      ],
      "execution_count": 0,
      "outputs": []
    },
    {
      "cell_type": "code",
      "metadata": {
        "id": "Tb-co0_c1y2B",
        "colab_type": "code",
        "colab": {
          "base_uri": "https://localhost:8080/",
          "height": 34
        },
        "outputId": "484f3f2c-460b-4e0a-f1eb-902a275296ea"
      },
      "source": [
        "print(addAfterLoss(100,2)[2])"
      ],
      "execution_count": 23,
      "outputs": [
        {
          "output_type": "stream",
          "text": [
            "[-0.38, -0.22]\n"
          ],
          "name": "stdout"
        }
      ]
    },
    {
      "cell_type": "code",
      "metadata": {
        "id": "PZR_lpkZ14q5",
        "colab_type": "code",
        "colab": {}
      },
      "source": [
        "def normalCompoundwithFlucuatingRates(startingValue,rates):\n",
        "  value = startingValue\n",
        "  for rate in rates:\n",
        "    value = value*(1+rate)\n",
        "  return(value)\n"
      ],
      "execution_count": 0,
      "outputs": []
    },
    {
      "cell_type": "code",
      "metadata": {
        "id": "uORq-Fbw7eCz",
        "colab_type": "code",
        "colab": {
          "base_uri": "https://localhost:8080/",
          "height": 34
        },
        "outputId": "86100591-4709-41c0-a6e4-8318d53033eb"
      },
      "source": [
        "normalCompoundwithFlucuatingRates(100,[.1,.1])"
      ],
      "execution_count": 42,
      "outputs": [
        {
          "output_type": "execute_result",
          "data": {
            "text/plain": [
              "121.00000000000003"
            ]
          },
          "metadata": {
            "tags": []
          },
          "execution_count": 42
        }
      ]
    },
    {
      "cell_type": "code",
      "metadata": {
        "id": "wspfOUZU2BUQ",
        "colab_type": "code",
        "colab": {}
      },
      "source": [
        "def compareAllatBeginningvsAddAfterLoss(startingValue,years):\n",
        "    initializers = addAfterLoss(startingValue,years)\n",
        "    endingValuetoBeat=initializers[0]\n",
        "    myStartingValue = initializers[1]\n",
        "    myRates=initializers[2]\n",
        "    myEndingValue = normalCompoundwithFlucuatingRates(myStartingValue,myRates)\n",
        "    if(endingValuetoBeat >= myEndingValue):\n",
        "      print(\"Adding only after losses wins\\n\")\n",
        "    else:\n",
        "      print(\"Investing all at beginning wins\\n\")\n",
        "    print(\"Adding Only After Losses Total: \",endingValuetoBeat,\"\\n\")\n",
        "    print(\"Investing All at Beginning Total: \",myEndingValue,\"\\n\")\n",
        "    return(myRates)\n",
        "    \n",
        "\n",
        "    \n",
        "    \n"
      ],
      "execution_count": 0,
      "outputs": []
    },
    {
      "cell_type": "code",
      "metadata": {
        "id": "-AzsvmoQ8pIu",
        "colab_type": "code",
        "colab": {
          "base_uri": "https://localhost:8080/",
          "height": 136
        },
        "outputId": "1525953e-1599-48e6-d6c3-0093a4ea322b"
      },
      "source": [
        "compareAllatBeginningvsAddAfterLoss(100,5)"
      ],
      "execution_count": 66,
      "outputs": [
        {
          "output_type": "stream",
          "text": [
            "Investing all at beginning wins\n",
            "\n",
            "Adding Only After Losses Total:  281.2524 \n",
            "\n",
            "Investing All at Beginning Total:  314.59637324631035 \n",
            "\n"
          ],
          "name": "stdout"
        },
        {
          "output_type": "execute_result",
          "data": {
            "text/plain": [
              "[0.49, 0.32, -0.13, 0.43, -0.02]"
            ]
          },
          "metadata": {
            "tags": []
          },
          "execution_count": 66
        }
      ]
    },
    {
      "cell_type": "code",
      "metadata": {
        "id": "HiXmFcIP8rZA",
        "colab_type": "code",
        "colab": {}
      },
      "source": [
        ""
      ],
      "execution_count": 0,
      "outputs": []
    }
  ]
}